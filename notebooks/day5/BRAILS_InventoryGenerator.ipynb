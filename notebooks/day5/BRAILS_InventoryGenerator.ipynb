{
  "cells": [
    {
      "cell_type": "markdown",
      "metadata": {
        "id": "view-in-github",
        "colab_type": "text"
      },
      "source": [
        "<a href=\"https://colab.research.google.com/github/bacetiner/BRAILS/blob/master/notebooks/BRAILS_InventoryGenerator_SampleColabCall.ipynb\" target=\"_parent\"><img src=\"https://colab.research.google.com/assets/colab-badge.svg\" alt=\"Open In Colab\"/></a>"
      ]
    },
    {
      "cell_type": "markdown",
      "metadata": {
        "id": "kVPwJknF2JZ-"
      },
      "source": [
        "## Install the latest version of BRAILS:"
      ]
    },
    {
      "cell_type": "code",
      "execution_count": 1,
      "metadata": {
        "colab": {
          "base_uri": "https://localhost:8080/"
        },
        "id": "qSKGJQUOvll9",
        "outputId": "61e18965-f325-4af1-9025-341f43ebcb37"
      },
      "outputs": [
        {
          "output_type": "stream",
          "name": "stdout",
          "text": [
            "Looking in indexes: https://pypi.org/simple, https://us-python.pkg.dev/colab-wheels/public/simple/\n",
            "Collecting git+https://github.com/NHERI-SimCenter/BRAILS\n",
            "  Cloning https://github.com/NHERI-SimCenter/BRAILS to /tmp/pip-req-build-oub2q6nk\n",
            "  Running command git clone -q https://github.com/NHERI-SimCenter/BRAILS /tmp/pip-req-build-oub2q6nk\n",
            "Requirement already satisfied: matplotlib in /usr/local/lib/python3.7/dist-packages (from BRAILS==2.0.1.dev479+gf677ee6) (3.2.2)\n",
            "Requirement already satisfied: numpy in /usr/local/lib/python3.7/dist-packages (from BRAILS==2.0.1.dev479+gf677ee6) (1.21.6)\n",
            "Requirement already satisfied: pandas in /usr/local/lib/python3.7/dist-packages (from BRAILS==2.0.1.dev479+gf677ee6) (1.3.5)\n",
            "Requirement already satisfied: requests in /usr/local/lib/python3.7/dist-packages (from BRAILS==2.0.1.dev479+gf677ee6) (2.23.0)\n",
            "Requirement already satisfied: scipy in /usr/local/lib/python3.7/dist-packages (from BRAILS==2.0.1.dev479+gf677ee6) (1.7.3)\n",
            "Requirement already satisfied: seaborn in /usr/local/lib/python3.7/dist-packages (from BRAILS==2.0.1.dev479+gf677ee6) (0.11.2)\n",
            "Requirement already satisfied: wget in /usr/local/lib/python3.7/dist-packages (from BRAILS==2.0.1.dev479+gf677ee6) (3.2)\n",
            "Requirement already satisfied: shapely in /usr/local/lib/python3.7/dist-packages (from BRAILS==2.0.1.dev479+gf677ee6) (1.8.4)\n",
            "Requirement already satisfied: opencv-python in /usr/local/lib/python3.7/dist-packages (from BRAILS==2.0.1.dev479+gf677ee6) (4.6.0.66)\n",
            "Requirement already satisfied: tqdm in /usr/local/lib/python3.7/dist-packages (from BRAILS==2.0.1.dev479+gf677ee6) (4.64.1)\n",
            "Requirement already satisfied: tensorboard in /usr/local/lib/python3.7/dist-packages (from BRAILS==2.0.1.dev479+gf677ee6) (2.8.0)\n",
            "Requirement already satisfied: tensorboardX in /usr/local/lib/python3.7/dist-packages (from BRAILS==2.0.1.dev479+gf677ee6) (2.5.1)\n",
            "Requirement already satisfied: webcolors in /usr/local/lib/python3.7/dist-packages (from BRAILS==2.0.1.dev479+gf677ee6) (1.12)\n",
            "Requirement already satisfied: pyyaml in /usr/local/lib/python3.7/dist-packages (from BRAILS==2.0.1.dev479+gf677ee6) (6.0)\n",
            "Requirement already satisfied: torch>=1.7 in /usr/local/lib/python3.7/dist-packages (from BRAILS==2.0.1.dev479+gf677ee6) (1.12.1+cu113)\n",
            "Requirement already satisfied: torchvision in /usr/local/lib/python3.7/dist-packages (from BRAILS==2.0.1.dev479+gf677ee6) (0.13.1+cu113)\n",
            "Requirement already satisfied: timm in /usr/local/lib/python3.7/dist-packages (from BRAILS==2.0.1.dev479+gf677ee6) (0.6.7)\n",
            "Requirement already satisfied: yacs in /usr/local/lib/python3.7/dist-packages (from BRAILS==2.0.1.dev479+gf677ee6) (0.1.8)\n",
            "Requirement already satisfied: Pillow in /usr/local/lib/python3.7/dist-packages (from BRAILS==2.0.1.dev479+gf677ee6) (7.1.2)\n",
            "Requirement already satisfied: sklearn in /usr/local/lib/python3.7/dist-packages (from BRAILS==2.0.1.dev479+gf677ee6) (0.0)\n",
            "Requirement already satisfied: typing-extensions in /usr/local/lib/python3.7/dist-packages (from torch>=1.7->BRAILS==2.0.1.dev479+gf677ee6) (4.1.1)\n",
            "Requirement already satisfied: pyparsing!=2.0.4,!=2.1.2,!=2.1.6,>=2.0.1 in /usr/local/lib/python3.7/dist-packages (from matplotlib->BRAILS==2.0.1.dev479+gf677ee6) (3.0.9)\n",
            "Requirement already satisfied: kiwisolver>=1.0.1 in /usr/local/lib/python3.7/dist-packages (from matplotlib->BRAILS==2.0.1.dev479+gf677ee6) (1.4.4)\n",
            "Requirement already satisfied: python-dateutil>=2.1 in /usr/local/lib/python3.7/dist-packages (from matplotlib->BRAILS==2.0.1.dev479+gf677ee6) (2.8.2)\n",
            "Requirement already satisfied: cycler>=0.10 in /usr/local/lib/python3.7/dist-packages (from matplotlib->BRAILS==2.0.1.dev479+gf677ee6) (0.11.0)\n",
            "Requirement already satisfied: six>=1.5 in /usr/local/lib/python3.7/dist-packages (from python-dateutil>=2.1->matplotlib->BRAILS==2.0.1.dev479+gf677ee6) (1.15.0)\n",
            "Requirement already satisfied: pytz>=2017.3 in /usr/local/lib/python3.7/dist-packages (from pandas->BRAILS==2.0.1.dev479+gf677ee6) (2022.2.1)\n",
            "Requirement already satisfied: certifi>=2017.4.17 in /usr/local/lib/python3.7/dist-packages (from requests->BRAILS==2.0.1.dev479+gf677ee6) (2022.6.15)\n",
            "Requirement already satisfied: urllib3!=1.25.0,!=1.25.1,<1.26,>=1.21.1 in /usr/local/lib/python3.7/dist-packages (from requests->BRAILS==2.0.1.dev479+gf677ee6) (1.24.3)\n",
            "Requirement already satisfied: idna<3,>=2.5 in /usr/local/lib/python3.7/dist-packages (from requests->BRAILS==2.0.1.dev479+gf677ee6) (2.10)\n",
            "Requirement already satisfied: chardet<4,>=3.0.2 in /usr/local/lib/python3.7/dist-packages (from requests->BRAILS==2.0.1.dev479+gf677ee6) (3.0.4)\n",
            "Requirement already satisfied: scikit-learn in /usr/local/lib/python3.7/dist-packages (from sklearn->BRAILS==2.0.1.dev479+gf677ee6) (1.0.2)\n",
            "Requirement already satisfied: threadpoolctl>=2.0.0 in /usr/local/lib/python3.7/dist-packages (from scikit-learn->sklearn->BRAILS==2.0.1.dev479+gf677ee6) (3.1.0)\n",
            "Requirement already satisfied: joblib>=0.11 in /usr/local/lib/python3.7/dist-packages (from scikit-learn->sklearn->BRAILS==2.0.1.dev479+gf677ee6) (1.1.0)\n",
            "Requirement already satisfied: absl-py>=0.4 in /usr/local/lib/python3.7/dist-packages (from tensorboard->BRAILS==2.0.1.dev479+gf677ee6) (1.2.0)\n",
            "Requirement already satisfied: google-auth<3,>=1.6.3 in /usr/local/lib/python3.7/dist-packages (from tensorboard->BRAILS==2.0.1.dev479+gf677ee6) (1.35.0)\n",
            "Requirement already satisfied: markdown>=2.6.8 in /usr/local/lib/python3.7/dist-packages (from tensorboard->BRAILS==2.0.1.dev479+gf677ee6) (3.4.1)\n",
            "Requirement already satisfied: werkzeug>=0.11.15 in /usr/local/lib/python3.7/dist-packages (from tensorboard->BRAILS==2.0.1.dev479+gf677ee6) (1.0.1)\n",
            "Requirement already satisfied: setuptools>=41.0.0 in /usr/local/lib/python3.7/dist-packages (from tensorboard->BRAILS==2.0.1.dev479+gf677ee6) (57.4.0)\n",
            "Requirement already satisfied: grpcio>=1.24.3 in /usr/local/lib/python3.7/dist-packages (from tensorboard->BRAILS==2.0.1.dev479+gf677ee6) (1.48.1)\n",
            "Requirement already satisfied: protobuf>=3.6.0 in /usr/local/lib/python3.7/dist-packages (from tensorboard->BRAILS==2.0.1.dev479+gf677ee6) (3.17.3)\n",
            "Requirement already satisfied: tensorboard-plugin-wit>=1.6.0 in /usr/local/lib/python3.7/dist-packages (from tensorboard->BRAILS==2.0.1.dev479+gf677ee6) (1.8.1)\n",
            "Requirement already satisfied: wheel>=0.26 in /usr/local/lib/python3.7/dist-packages (from tensorboard->BRAILS==2.0.1.dev479+gf677ee6) (0.37.1)\n",
            "Requirement already satisfied: tensorboard-data-server<0.7.0,>=0.6.0 in /usr/local/lib/python3.7/dist-packages (from tensorboard->BRAILS==2.0.1.dev479+gf677ee6) (0.6.1)\n",
            "Requirement already satisfied: google-auth-oauthlib<0.5,>=0.4.1 in /usr/local/lib/python3.7/dist-packages (from tensorboard->BRAILS==2.0.1.dev479+gf677ee6) (0.4.6)\n",
            "Requirement already satisfied: pyasn1-modules>=0.2.1 in /usr/local/lib/python3.7/dist-packages (from google-auth<3,>=1.6.3->tensorboard->BRAILS==2.0.1.dev479+gf677ee6) (0.2.8)\n",
            "Requirement already satisfied: cachetools<5.0,>=2.0.0 in /usr/local/lib/python3.7/dist-packages (from google-auth<3,>=1.6.3->tensorboard->BRAILS==2.0.1.dev479+gf677ee6) (4.2.4)\n",
            "Requirement already satisfied: rsa<5,>=3.1.4 in /usr/local/lib/python3.7/dist-packages (from google-auth<3,>=1.6.3->tensorboard->BRAILS==2.0.1.dev479+gf677ee6) (4.9)\n",
            "Requirement already satisfied: requests-oauthlib>=0.7.0 in /usr/local/lib/python3.7/dist-packages (from google-auth-oauthlib<0.5,>=0.4.1->tensorboard->BRAILS==2.0.1.dev479+gf677ee6) (1.3.1)\n",
            "Requirement already satisfied: importlib-metadata>=4.4 in /usr/local/lib/python3.7/dist-packages (from markdown>=2.6.8->tensorboard->BRAILS==2.0.1.dev479+gf677ee6) (4.12.0)\n",
            "Requirement already satisfied: zipp>=0.5 in /usr/local/lib/python3.7/dist-packages (from importlib-metadata>=4.4->markdown>=2.6.8->tensorboard->BRAILS==2.0.1.dev479+gf677ee6) (3.8.1)\n",
            "Requirement already satisfied: pyasn1<0.5.0,>=0.4.6 in /usr/local/lib/python3.7/dist-packages (from pyasn1-modules>=0.2.1->google-auth<3,>=1.6.3->tensorboard->BRAILS==2.0.1.dev479+gf677ee6) (0.4.8)\n",
            "Requirement already satisfied: oauthlib>=3.0.0 in /usr/local/lib/python3.7/dist-packages (from requests-oauthlib>=0.7.0->google-auth-oauthlib<0.5,>=0.4.1->tensorboard->BRAILS==2.0.1.dev479+gf677ee6) (3.2.0)\n"
          ]
        }
      ],
      "source": [
        "pip install git+https://github.com/NHERI-SimCenter/BRAILS"
      ]
    },
    {
      "cell_type": "markdown",
      "metadata": {
        "id": "vHKXTzgC2JaI"
      },
      "source": [
        "## Initialize the InventoryGenerator for your location of interest:\n",
        "If the provided API Key is valid and has the required APIs (i.e., Street View Static API, and Maps Static API) enabled, the following code will display work as expected.\n",
        "\n",
        "If you receive an API key error, please make sure you have a [valid API key](https://developers.google.com/maps/documentation/embed/get-api-key) and [have Street View Static API, and Maps Static API enabled](https://support.google.com/googleapi/answer/6158841?hl=en) for this key."
      ]
    },
    {
      "cell_type": "code",
      "execution_count": 3,
      "metadata": {
        "colab": {
          "base_uri": "https://localhost:8080/"
        },
        "id": "gWzCiBa50b98",
        "outputId": "3563c417-7984-43c9-ccbd-11771762994e"
      },
      "outputs": [
        {
          "output_type": "stream",
          "name": "stdout",
          "text": [
            "\n",
            "Searching for Berkeley, CA...\n",
            "Found Berkeley, Alameda County, CAL Fire Northern Region, California, United States\n",
            "\n",
            "Fetching footprint data for Berkeley...\n",
            "Found a total of 35346 building footprints in Berkeley\n",
            "Randomly selected 100 buildings\n"
          ]
        }
      ],
      "source": [
        "\n",
        "# Import InventoryGenerator:\n",
        "from brails.InventoryGenerator import InventoryGenerator\n",
        "\n",
        "# Initialize InventoryGenerator:\n",
        "invGenerator = InventoryGenerator(location='Enter the Location You Want the Inventory for Here, e.g., Berkeley, CA',\n",
        "                                  nbldgs=100, randomSelection=True,\n",
        "                                  GoogleAPIKey=\"Enter Google API Key Here\")"
      ]
    },
    {
      "cell_type": "markdown",
      "metadata": {
        "id": "wPmu1-6L2JaL"
      },
      "source": [
        "## Run InventoryGenerator for all enabled attributes "
      ]
    },
    {
      "cell_type": "code",
      "execution_count": 4,
      "metadata": {
        "id": "p9CUHE3L5uHw",
        "outputId": "eac1bde3-e7d7-45bc-9e95-ac3572880f16",
        "colab": {
          "base_uri": "https://localhost:8080/"
        }
      },
      "outputs": [
        {
          "output_type": "stream",
          "name": "stdout",
          "text": [
            "\n",
            "Determining the number of floors for each building...\n",
            "Loading default floor detector model file to tmp/models folder...\n",
            "Default floor detector model loaded\n",
            "Performing floor detections...\n"
          ]
        },
        {
          "output_type": "stream",
          "name": "stderr",
          "text": [
            "100%|██████████| 100/100 [00:26<00:00,  3.74it/s]\n"
          ]
        },
        {
          "output_type": "stream",
          "name": "stdout",
          "text": [
            "\n",
            "Total execution time: 00:00:31.71\n",
            "\n",
            "Determining the heights and roof pitch for each building...\n",
            "Loading default facade parser model file to tmp/models folder...\n",
            "Default facade parser model loaded\n"
          ]
        },
        {
          "output_type": "stream",
          "name": "stderr",
          "text": [
            "100%|██████████| 100/100 [00:16<00:00,  6.09it/s]\n"
          ]
        },
        {
          "output_type": "stream",
          "name": "stdout",
          "text": [
            "\n",
            "Checking the existence of chimneys for each building...\n",
            "Loading default chimney detector model file to tmp/models folder...\n",
            "Default chimney detector model loaded\n",
            "Performing chimney detections...\n"
          ]
        },
        {
          "output_type": "stream",
          "name": "stderr",
          "text": [
            "100%|██████████| 100/100 [00:15<00:00,  6.32it/s]\n"
          ]
        },
        {
          "output_type": "stream",
          "name": "stdout",
          "text": [
            "\n",
            "Total execution time: 00:00:16.72\n",
            "\n",
            "Determining the era of construction for each building...\n",
            "Loading default era of construction classifier model file to tmp/models folder...\n",
            "\n",
            "Default era of construction classifier model loaded\n",
            "Performing construction era classifications...\n"
          ]
        },
        {
          "output_type": "stream",
          "name": "stderr",
          "text": [
            "100%|██████████| 100/100 [00:00<00:00, 272711.57it/s]"
          ]
        },
        {
          "output_type": "stream",
          "name": "stdout",
          "text": [
            "\n",
            "\n",
            "\n",
            "Checking the existence of garages for each building...\n",
            "Loading default garage detector model file to tmp/models folder...\n"
          ]
        },
        {
          "output_type": "stream",
          "name": "stderr",
          "text": [
            "\n"
          ]
        },
        {
          "output_type": "stream",
          "name": "stdout",
          "text": [
            "Default garage detector model loaded\n",
            "Performing garage detections...\n"
          ]
        },
        {
          "output_type": "stream",
          "name": "stderr",
          "text": [
            "100%|██████████| 100/100 [00:16<00:00,  6.09it/s]\n"
          ]
        },
        {
          "output_type": "stream",
          "name": "stdout",
          "text": [
            "\n",
            "Total execution time: 00:00:17.31\n",
            "\n",
            "Determining the roof type for each building...\n",
            "Loading default roof type classifier model file to tmp/models folder...\n",
            "\n",
            "Model found locally: ./tmp/models/transformer_rooftype_v1.pkl \n",
            "Loading  ./tmp/models/transformer_rooftype_v1.pkl\n",
            "                          image prediction  probability\n",
            "0    tmp/images/satellite/0.png       flat     0.998295\n",
            "1    tmp/images/satellite/1.png     gabled     0.999999\n",
            "2    tmp/images/satellite/2.png       flat     0.999939\n",
            "3    tmp/images/satellite/3.png       flat     0.992569\n",
            "4    tmp/images/satellite/4.png     gabled     0.999990\n",
            "..                          ...        ...          ...\n",
            "95  tmp/images/satellite/95.png     hipped     1.000000\n",
            "96  tmp/images/satellite/96.png     gabled     1.000000\n",
            "97  tmp/images/satellite/97.png       flat     0.997960\n",
            "98  tmp/images/satellite/98.png       flat     0.992386\n",
            "99  tmp/images/satellite/99.png     hipped     0.853740\n",
            "\n",
            "[100 rows x 3 columns]\n",
            "Results written in file ./tmp/roofType_preds.csv\n",
            "Final inventory available in inventory.csv\n"
          ]
        }
      ],
      "source": [
        "#invGenerator.enabledAttributes\n",
        "invGenerator.generate(attributes='all')"
      ]
    },
    {
      "cell_type": "markdown",
      "metadata": {
        "id": "ismcjgIp2JaN"
      },
      "source": [
        "## Show a snippet of the computed attribute values:"
      ]
    },
    {
      "cell_type": "code",
      "execution_count": 5,
      "metadata": {
        "id": "aTs45AdMAr4f",
        "outputId": "78558996-5f19-4212-9202-1f25adc8479b",
        "colab": {
          "base_uri": "https://localhost:8080/",
          "height": 423
        }
      },
      "outputs": [
        {
          "output_type": "execute_result",
          "data": {
            "text/plain": [
              "                                            footprint  \\\n",
              "0   [[-122.2983117, 37.8657377], [-122.2982712, 37...   \n",
              "1   [[-122.2793234, 37.8976833], [-122.2793214, 37...   \n",
              "2   [[-122.2901031, 37.8681056], [-122.2900881, 37...   \n",
              "3   [[-122.2877556, 37.8583993], [-122.2877415, 37...   \n",
              "4   [[-122.2731439, 37.8598559], [-122.2730928, 37...   \n",
              "..                                                ...   \n",
              "95  [[-122.2912109, 37.8813178], [-122.2912095, 37...   \n",
              "96  [[-122.2771664, 37.8989287], [-122.2770586, 37...   \n",
              "97  [[-122.2738461, 37.8831535], [-122.2738486, 37...   \n",
              "98  [[-122.2561551, 37.8580264], [-122.2559372, 37...   \n",
              "99  [[-122.2691581, 37.8588693], [-122.2691722, 37...   \n",
              "\n",
              "               satellite_images             street_images  nstories  \\\n",
              "0    tmp/images/satellite/0.png   tmp/images/street/0.png         1   \n",
              "1    tmp/images/satellite/1.png   tmp/images/street/1.png         1   \n",
              "2    tmp/images/satellite/2.png   tmp/images/street/2.png         1   \n",
              "3    tmp/images/satellite/3.png   tmp/images/street/3.png         2   \n",
              "4    tmp/images/satellite/4.png   tmp/images/street/4.png         3   \n",
              "..                          ...                       ...       ...   \n",
              "95  tmp/images/satellite/95.png  tmp/images/street/95.png         2   \n",
              "96  tmp/images/satellite/96.png  tmp/images/street/96.png         3   \n",
              "97  tmp/images/satellite/97.png  tmp/images/street/97.png         1   \n",
              "98  tmp/images/satellite/98.png  tmp/images/street/98.png         1   \n",
              "99  tmp/images/satellite/99.png  tmp/images/street/99.png         1   \n",
              "\n",
              "    buildingheight  chimneyExists  eraBuilt  garageExists  roofeaveheight  \\\n",
              "0             16.6          False  Pre-1970          True            14.8   \n",
              "1             32.1          False  Pre-1970         False            15.1   \n",
              "2             20.1          False  Pre-1970         False            17.8   \n",
              "3              NaN          False  Pre-1970         False             NaN   \n",
              "4             62.4          False  Pre-1970         False            44.8   \n",
              "..             ...            ...       ...           ...             ...   \n",
              "95            37.9          False  Pre-1970          True            31.8   \n",
              "96            51.2           True  Pre-1970          True            44.6   \n",
              "97            13.4          False  Pre-1970          True            10.7   \n",
              "98            19.9          False  Pre-1970          True            17.0   \n",
              "99            18.1          False  Pre-1970         False            16.2   \n",
              "\n",
              "    roofpitch roofshape  \n",
              "0        0.06      Flat  \n",
              "1        0.65     Gable  \n",
              "2        0.16      Flat  \n",
              "3         NaN      Flat  \n",
              "4        0.52     Gable  \n",
              "..        ...       ...  \n",
              "95       0.41       Hip  \n",
              "96       0.23     Gable  \n",
              "97       0.06      Flat  \n",
              "98       0.18      Flat  \n",
              "99       0.04       Hip  \n",
              "\n",
              "[100 rows x 11 columns]"
            ],
            "text/html": [
              "\n",
              "  <div id=\"df-c4698370-4efb-48d0-978f-4cc0720a4fee\">\n",
              "    <div class=\"colab-df-container\">\n",
              "      <div>\n",
              "<style scoped>\n",
              "    .dataframe tbody tr th:only-of-type {\n",
              "        vertical-align: middle;\n",
              "    }\n",
              "\n",
              "    .dataframe tbody tr th {\n",
              "        vertical-align: top;\n",
              "    }\n",
              "\n",
              "    .dataframe thead th {\n",
              "        text-align: right;\n",
              "    }\n",
              "</style>\n",
              "<table border=\"1\" class=\"dataframe\">\n",
              "  <thead>\n",
              "    <tr style=\"text-align: right;\">\n",
              "      <th></th>\n",
              "      <th>footprint</th>\n",
              "      <th>satellite_images</th>\n",
              "      <th>street_images</th>\n",
              "      <th>nstories</th>\n",
              "      <th>buildingheight</th>\n",
              "      <th>chimneyExists</th>\n",
              "      <th>eraBuilt</th>\n",
              "      <th>garageExists</th>\n",
              "      <th>roofeaveheight</th>\n",
              "      <th>roofpitch</th>\n",
              "      <th>roofshape</th>\n",
              "    </tr>\n",
              "  </thead>\n",
              "  <tbody>\n",
              "    <tr>\n",
              "      <th>0</th>\n",
              "      <td>[[-122.2983117, 37.8657377], [-122.2982712, 37...</td>\n",
              "      <td>tmp/images/satellite/0.png</td>\n",
              "      <td>tmp/images/street/0.png</td>\n",
              "      <td>1</td>\n",
              "      <td>16.6</td>\n",
              "      <td>False</td>\n",
              "      <td>Pre-1970</td>\n",
              "      <td>True</td>\n",
              "      <td>14.8</td>\n",
              "      <td>0.06</td>\n",
              "      <td>Flat</td>\n",
              "    </tr>\n",
              "    <tr>\n",
              "      <th>1</th>\n",
              "      <td>[[-122.2793234, 37.8976833], [-122.2793214, 37...</td>\n",
              "      <td>tmp/images/satellite/1.png</td>\n",
              "      <td>tmp/images/street/1.png</td>\n",
              "      <td>1</td>\n",
              "      <td>32.1</td>\n",
              "      <td>False</td>\n",
              "      <td>Pre-1970</td>\n",
              "      <td>False</td>\n",
              "      <td>15.1</td>\n",
              "      <td>0.65</td>\n",
              "      <td>Gable</td>\n",
              "    </tr>\n",
              "    <tr>\n",
              "      <th>2</th>\n",
              "      <td>[[-122.2901031, 37.8681056], [-122.2900881, 37...</td>\n",
              "      <td>tmp/images/satellite/2.png</td>\n",
              "      <td>tmp/images/street/2.png</td>\n",
              "      <td>1</td>\n",
              "      <td>20.1</td>\n",
              "      <td>False</td>\n",
              "      <td>Pre-1970</td>\n",
              "      <td>False</td>\n",
              "      <td>17.8</td>\n",
              "      <td>0.16</td>\n",
              "      <td>Flat</td>\n",
              "    </tr>\n",
              "    <tr>\n",
              "      <th>3</th>\n",
              "      <td>[[-122.2877556, 37.8583993], [-122.2877415, 37...</td>\n",
              "      <td>tmp/images/satellite/3.png</td>\n",
              "      <td>tmp/images/street/3.png</td>\n",
              "      <td>2</td>\n",
              "      <td>NaN</td>\n",
              "      <td>False</td>\n",
              "      <td>Pre-1970</td>\n",
              "      <td>False</td>\n",
              "      <td>NaN</td>\n",
              "      <td>NaN</td>\n",
              "      <td>Flat</td>\n",
              "    </tr>\n",
              "    <tr>\n",
              "      <th>4</th>\n",
              "      <td>[[-122.2731439, 37.8598559], [-122.2730928, 37...</td>\n",
              "      <td>tmp/images/satellite/4.png</td>\n",
              "      <td>tmp/images/street/4.png</td>\n",
              "      <td>3</td>\n",
              "      <td>62.4</td>\n",
              "      <td>False</td>\n",
              "      <td>Pre-1970</td>\n",
              "      <td>False</td>\n",
              "      <td>44.8</td>\n",
              "      <td>0.52</td>\n",
              "      <td>Gable</td>\n",
              "    </tr>\n",
              "    <tr>\n",
              "      <th>...</th>\n",
              "      <td>...</td>\n",
              "      <td>...</td>\n",
              "      <td>...</td>\n",
              "      <td>...</td>\n",
              "      <td>...</td>\n",
              "      <td>...</td>\n",
              "      <td>...</td>\n",
              "      <td>...</td>\n",
              "      <td>...</td>\n",
              "      <td>...</td>\n",
              "      <td>...</td>\n",
              "    </tr>\n",
              "    <tr>\n",
              "      <th>95</th>\n",
              "      <td>[[-122.2912109, 37.8813178], [-122.2912095, 37...</td>\n",
              "      <td>tmp/images/satellite/95.png</td>\n",
              "      <td>tmp/images/street/95.png</td>\n",
              "      <td>2</td>\n",
              "      <td>37.9</td>\n",
              "      <td>False</td>\n",
              "      <td>Pre-1970</td>\n",
              "      <td>True</td>\n",
              "      <td>31.8</td>\n",
              "      <td>0.41</td>\n",
              "      <td>Hip</td>\n",
              "    </tr>\n",
              "    <tr>\n",
              "      <th>96</th>\n",
              "      <td>[[-122.2771664, 37.8989287], [-122.2770586, 37...</td>\n",
              "      <td>tmp/images/satellite/96.png</td>\n",
              "      <td>tmp/images/street/96.png</td>\n",
              "      <td>3</td>\n",
              "      <td>51.2</td>\n",
              "      <td>True</td>\n",
              "      <td>Pre-1970</td>\n",
              "      <td>True</td>\n",
              "      <td>44.6</td>\n",
              "      <td>0.23</td>\n",
              "      <td>Gable</td>\n",
              "    </tr>\n",
              "    <tr>\n",
              "      <th>97</th>\n",
              "      <td>[[-122.2738461, 37.8831535], [-122.2738486, 37...</td>\n",
              "      <td>tmp/images/satellite/97.png</td>\n",
              "      <td>tmp/images/street/97.png</td>\n",
              "      <td>1</td>\n",
              "      <td>13.4</td>\n",
              "      <td>False</td>\n",
              "      <td>Pre-1970</td>\n",
              "      <td>True</td>\n",
              "      <td>10.7</td>\n",
              "      <td>0.06</td>\n",
              "      <td>Flat</td>\n",
              "    </tr>\n",
              "    <tr>\n",
              "      <th>98</th>\n",
              "      <td>[[-122.2561551, 37.8580264], [-122.2559372, 37...</td>\n",
              "      <td>tmp/images/satellite/98.png</td>\n",
              "      <td>tmp/images/street/98.png</td>\n",
              "      <td>1</td>\n",
              "      <td>19.9</td>\n",
              "      <td>False</td>\n",
              "      <td>Pre-1970</td>\n",
              "      <td>True</td>\n",
              "      <td>17.0</td>\n",
              "      <td>0.18</td>\n",
              "      <td>Flat</td>\n",
              "    </tr>\n",
              "    <tr>\n",
              "      <th>99</th>\n",
              "      <td>[[-122.2691581, 37.8588693], [-122.2691722, 37...</td>\n",
              "      <td>tmp/images/satellite/99.png</td>\n",
              "      <td>tmp/images/street/99.png</td>\n",
              "      <td>1</td>\n",
              "      <td>18.1</td>\n",
              "      <td>False</td>\n",
              "      <td>Pre-1970</td>\n",
              "      <td>False</td>\n",
              "      <td>16.2</td>\n",
              "      <td>0.04</td>\n",
              "      <td>Hip</td>\n",
              "    </tr>\n",
              "  </tbody>\n",
              "</table>\n",
              "<p>100 rows × 11 columns</p>\n",
              "</div>\n",
              "      <button class=\"colab-df-convert\" onclick=\"convertToInteractive('df-c4698370-4efb-48d0-978f-4cc0720a4fee')\"\n",
              "              title=\"Convert this dataframe to an interactive table.\"\n",
              "              style=\"display:none;\">\n",
              "        \n",
              "  <svg xmlns=\"http://www.w3.org/2000/svg\" height=\"24px\"viewBox=\"0 0 24 24\"\n",
              "       width=\"24px\">\n",
              "    <path d=\"M0 0h24v24H0V0z\" fill=\"none\"/>\n",
              "    <path d=\"M18.56 5.44l.94 2.06.94-2.06 2.06-.94-2.06-.94-.94-2.06-.94 2.06-2.06.94zm-11 1L8.5 8.5l.94-2.06 2.06-.94-2.06-.94L8.5 2.5l-.94 2.06-2.06.94zm10 10l.94 2.06.94-2.06 2.06-.94-2.06-.94-.94-2.06-.94 2.06-2.06.94z\"/><path d=\"M17.41 7.96l-1.37-1.37c-.4-.4-.92-.59-1.43-.59-.52 0-1.04.2-1.43.59L10.3 9.45l-7.72 7.72c-.78.78-.78 2.05 0 2.83L4 21.41c.39.39.9.59 1.41.59.51 0 1.02-.2 1.41-.59l7.78-7.78 2.81-2.81c.8-.78.8-2.07 0-2.86zM5.41 20L4 18.59l7.72-7.72 1.47 1.35L5.41 20z\"/>\n",
              "  </svg>\n",
              "      </button>\n",
              "      \n",
              "  <style>\n",
              "    .colab-df-container {\n",
              "      display:flex;\n",
              "      flex-wrap:wrap;\n",
              "      gap: 12px;\n",
              "    }\n",
              "\n",
              "    .colab-df-convert {\n",
              "      background-color: #E8F0FE;\n",
              "      border: none;\n",
              "      border-radius: 50%;\n",
              "      cursor: pointer;\n",
              "      display: none;\n",
              "      fill: #1967D2;\n",
              "      height: 32px;\n",
              "      padding: 0 0 0 0;\n",
              "      width: 32px;\n",
              "    }\n",
              "\n",
              "    .colab-df-convert:hover {\n",
              "      background-color: #E2EBFA;\n",
              "      box-shadow: 0px 1px 2px rgba(60, 64, 67, 0.3), 0px 1px 3px 1px rgba(60, 64, 67, 0.15);\n",
              "      fill: #174EA6;\n",
              "    }\n",
              "\n",
              "    [theme=dark] .colab-df-convert {\n",
              "      background-color: #3B4455;\n",
              "      fill: #D2E3FC;\n",
              "    }\n",
              "\n",
              "    [theme=dark] .colab-df-convert:hover {\n",
              "      background-color: #434B5C;\n",
              "      box-shadow: 0px 1px 3px 1px rgba(0, 0, 0, 0.15);\n",
              "      filter: drop-shadow(0px 1px 2px rgba(0, 0, 0, 0.3));\n",
              "      fill: #FFFFFF;\n",
              "    }\n",
              "  </style>\n",
              "\n",
              "      <script>\n",
              "        const buttonEl =\n",
              "          document.querySelector('#df-c4698370-4efb-48d0-978f-4cc0720a4fee button.colab-df-convert');\n",
              "        buttonEl.style.display =\n",
              "          google.colab.kernel.accessAllowed ? 'block' : 'none';\n",
              "\n",
              "        async function convertToInteractive(key) {\n",
              "          const element = document.querySelector('#df-c4698370-4efb-48d0-978f-4cc0720a4fee');\n",
              "          const dataTable =\n",
              "            await google.colab.kernel.invokeFunction('convertToInteractive',\n",
              "                                                     [key], {});\n",
              "          if (!dataTable) return;\n",
              "\n",
              "          const docLinkHtml = 'Like what you see? Visit the ' +\n",
              "            '<a target=\"_blank\" href=https://colab.research.google.com/notebooks/data_table.ipynb>data table notebook</a>'\n",
              "            + ' to learn more about interactive tables.';\n",
              "          element.innerHTML = '';\n",
              "          dataTable['output_type'] = 'display_data';\n",
              "          await google.colab.output.renderOutput(dataTable, element);\n",
              "          const docLink = document.createElement('div');\n",
              "          docLink.innerHTML = docLinkHtml;\n",
              "          element.appendChild(docLink);\n",
              "        }\n",
              "      </script>\n",
              "    </div>\n",
              "  </div>\n",
              "  "
            ]
          },
          "metadata": {},
          "execution_count": 5
        }
      ],
      "source": [
        "invGenerator.inventory"
      ]
    },
    {
      "cell_type": "markdown",
      "metadata": {
        "id": "0cqfCy1F2JaP"
      },
      "source": [
        "## Scroll through the images parsed by the InventoryGenerator"
      ]
    },
    {
      "cell_type": "code",
      "execution_count": 13,
      "metadata": {
        "id": "DL-ZALSqHGin",
        "outputId": "567e3e11-dba2-4edf-8612-b471a03119ab",
        "colab": {
          "base_uri": "https://localhost:8080/",
          "height": 657
        }
      },
      "outputs": [
        {
          "output_type": "execute_result",
          "data": {
            "image/png": "[encoded data removed]",
            "text/plain": [
              "<IPython.core.display.Image object>"
            ]
          },
          "metadata": {},
          "execution_count": 13
        }
      ],
      "source": [
        "from IPython.display import Image\n",
        "import os\n",
        "images = ['tmp/images/street/' + im for im in os.listdir('tmp/images/street')]\n",
        "Image(filename=images[-2]) "
      ]
    },
    {
      "cell_type": "markdown",
      "metadata": {
        "id": "lgmDaRcW2JaR"
      },
      "source": [
        "## Download the created inventory table as a CSV file:"
      ]
    },
    {
      "cell_type": "code",
      "execution_count": 14,
      "metadata": {
        "id": "mU14EHF2Jd4u",
        "outputId": "c5cf3b64-2d77-4ab5-9839-7b2f96959ede",
        "colab": {
          "base_uri": "https://localhost:8080/",
          "height": 17
        }
      },
      "outputs": [
        {
          "output_type": "display_data",
          "data": {
            "text/plain": [
              "<IPython.core.display.Javascript object>"
            ],
            "application/javascript": [
              "\n",
              "    async function download(id, filename, size) {\n",
              "      if (!google.colab.kernel.accessAllowed) {\n",
              "        return;\n",
              "      }\n",
              "      const div = document.createElement('div');\n",
              "      const label = document.createElement('label');\n",
              "      label.textContent = `Downloading \"${filename}\": `;\n",
              "      div.appendChild(label);\n",
              "      const progress = document.createElement('progress');\n",
              "      progress.max = size;\n",
              "      div.appendChild(progress);\n",
              "      document.body.appendChild(div);\n",
              "\n",
              "      const buffers = [];\n",
              "      let downloaded = 0;\n",
              "\n",
              "      const channel = await google.colab.kernel.comms.open(id);\n",
              "      // Send a message to notify the kernel that we're ready.\n",
              "      channel.send({})\n",
              "\n",
              "      for await (const message of channel.messages) {\n",
              "        // Send a message to notify the kernel that we're ready.\n",
              "        channel.send({})\n",
              "        if (message.buffers) {\n",
              "          for (const buffer of message.buffers) {\n",
              "            buffers.push(buffer);\n",
              "            downloaded += buffer.byteLength;\n",
              "            progress.value = downloaded;\n",
              "          }\n",
              "        }\n",
              "      }\n",
              "      const blob = new Blob(buffers, {type: 'application/binary'});\n",
              "      const a = document.createElement('a');\n",
              "      a.href = window.URL.createObjectURL(blob);\n",
              "      a.download = filename;\n",
              "      div.appendChild(a);\n",
              "      a.click();\n",
              "      div.remove();\n",
              "    }\n",
              "  "
            ]
          },
          "metadata": {}
        },
        {
          "output_type": "display_data",
          "data": {
            "text/plain": [
              "<IPython.core.display.Javascript object>"
            ],
            "application/javascript": [
              "download(\"download_59cf1b1f-3f96-4550-a944-3a16812daf86\", \"inventory.csv\", 26466)"
            ]
          },
          "metadata": {}
        }
      ],
      "source": [
        "from google.colab import files\n",
        "files.download('inventory.csv') "
      ]
    }
  ],
  "metadata": {
    "accelerator": "GPU",
    "colab": {
      "collapsed_sections": [],
      "machine_shape": "hm",
      "name": "InventoryGeneratorLocalTesting.ipynb",
      "provenance": [],
      "include_colab_link": true
    },
    "kernelspec": {
      "display_name": "Python 3 (ipykernel)",
      "language": "python",
      "name": "python3"
    },
    "language_info": {
      "codemirror_mode": {
        "name": "ipython",
        "version": 3
      },
      "file_extension": ".py",
      "mimetype": "text/x-python",
      "name": "python",
      "nbconvert_exporter": "python",
      "pygments_lexer": "ipython3",
      "version": "3.8.12"
    },
    "gpuClass": "premium"
  },
  "nbformat": 4,
  "nbformat_minor": 0
}